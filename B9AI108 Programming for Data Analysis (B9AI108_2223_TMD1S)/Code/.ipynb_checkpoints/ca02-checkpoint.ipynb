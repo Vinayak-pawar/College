{
 "cells": [
  {
   "cell_type": "code",
   "execution_count": 33,
   "id": "f47c0444",
   "metadata": {},
   "outputs": [],
   "source": [
    "import json\n",
    "\n",
    "f=open(\"//Users//vinayakpawar//Desktop//Work//VS-Code//Github Repos//College//B9AI108 Programming for Data Analysis (B9AI108_2223_TMD1S)//Datasets//pune.txt\",'r')\n",
    "f.readlines()    \n",
    "for i in f:\n",
    "    data = json.load(i)\n",
    "    print(data)"
   ]
  },
  {
   "cell_type": "code",
   "execution_count": null,
   "id": "21d892a7",
   "metadata": {},
   "outputs": [],
   "source": []
  },
  {
   "cell_type": "code",
   "execution_count": null,
   "id": "14d49858",
   "metadata": {},
   "outputs": [],
   "source": []
  }
 ],
 "metadata": {
  "kernelspec": {
   "display_name": "Python 3 (ipykernel)",
   "language": "python",
   "name": "python3"
  },
  "language_info": {
   "codemirror_mode": {
    "name": "ipython",
    "version": 3
   },
   "file_extension": ".py",
   "mimetype": "text/x-python",
   "name": "python",
   "nbconvert_exporter": "python",
   "pygments_lexer": "ipython3",
   "version": "3.10.8"
  }
 },
 "nbformat": 4,
 "nbformat_minor": 5
}
